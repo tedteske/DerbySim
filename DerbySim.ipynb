{
  "nbformat": 4,
  "nbformat_minor": 0,
  "metadata": {
    "colab": {
      "name": "DerbySim.ipynb",
      "provenance": [],
      "collapsed_sections": [],
      "include_colab_link": true
    },
    "language_info": {
      "codemirror_mode": {
        "name": "ipython",
        "version": 3
      },
      "file_extension": ".py",
      "mimetype": "text/x-python",
      "name": "python",
      "nbconvert_exporter": "python",
      "pygments_lexer": "ipython3",
      "version": "3.6.0"
    },
    "kernelspec": {
      "display_name": "Python 3.6",
      "language": "python",
      "name": "python3.6"
    }
  },
  "cells": [
    {
      "cell_type": "markdown",
      "metadata": {
        "id": "view-in-github",
        "colab_type": "text"
      },
      "source": [
        "<a href=\"https://colab.research.google.com/github/tedteske/DerbySim/blob/master/DerbySim.ipynb\" target=\"_parent\"><img src=\"https://colab.research.google.com/assets/colab-badge.svg\" alt=\"Open In Colab\"/></a>"
      ]
    },
    {
      "cell_type": "markdown",
      "metadata": {
        "id": "JtJFbEhwHEuc",
        "colab_type": "text"
      },
      "source": [
        "## Pinewood Derby Simulator\n",
        "\n",
        "For reference, formulas:\n",
        "* https://en.wikibooks.org/wiki/How_To_Build_a_Pinewood_Derby_Car/Physics#Friction_forces #most used source\n",
        "* https://en.wikibooks.org/wiki/How_To_Build_a_Pinewood_Derby_Car/Physics#Motion_with_friction\n",
        "* https://en.wikibooks.org/wiki/How_To_Build_a_Pinewood_Derby_Car/Physics#Rotational_kinetic_energy\n",
        "* http://www.pinewoodderbyphysics.com/\n",
        "* https://www.mech-sci.net/3/73/2012/ms-3-73-2012.pdf formula (8) here appears to support the fomula used in the simulation for adjusting kinetic friction for mechanical advantage\n",
        "* https://aapt.scitation.org/doi/10.1119/1.2342889\n",
        "\n",
        "info on the lognormal probability distribution\n",
        "* https://www.statisticshowto.datasciencecentral.com/lognormal-distribution/\n",
        "* https://www.itl.nist.gov/div898/handbook/eda/section3/eda3669.htm\n",
        "\n",
        "emprical data on friction:\n",
        "* http://www.pinewoodderbyphysics.com/pdf%20files/Lecture%206.pdf\n",
        "* http://pinewoodderbyphysics.netfirms.com/pdf%20files/Lecture%2013.pdf   #friction between wheel and axle\n",
        "* https://www.hamiltoncaster.com/Portals/0/blog/White%20Paper%20Rolling%20Resistance.pdf  #rolling resistance\n",
        "\n",
        "wheel specs:\n",
        "* http://pinewoodderbyonline.com/threads/stock-wheel-and-axle-weight.4564/\n",
        "* http://www.pinewoodderbyphysics.com/pdf%20files/Lecture%2026.pdf\n",
        "* http://www.pinewoodderbyphysics.com/pdf%20files/Lecture%203.pdf\n",
        "\n",
        "track specs:\n",
        "* http://www.pinewoodderbyphysics.com/pdf%20files/Lecture%2020.pdf\n",
        "* http://www.besttrack.com/track_specs.html\n",
        "\n",
        "to do: precision as significant digits rather than decimal places to which output is rounded, see round_to_n function example at \n",
        "* https://stackoverflow.com/questions/3410976/how-to-round-a-number-to-significant-figures-in-python"
      ]
    },
    {
      "cell_type": "markdown",
      "metadata": {
        "id": "GQqsafqcHEuj",
        "colab_type": "text"
      },
      "source": [
        "### Import needed libraries and create a class `derby` to hold track specs and a function to simulate a run down the track."
      ]
    },
    {
      "cell_type": "code",
      "metadata": {
        "id": "U6zUiSBpHEuo",
        "colab_type": "code",
        "colab": {}
      },
      "source": [
        "import math\n",
        "from scipy import stats\n",
        "import pandas as pd\n",
        "import matplotlib.pyplot as plt\n",
        "import seaborn as sns \n",
        "sns.set_style('darkgrid')\n",
        "import warnings \n",
        "warnings.simplefilter('ignore')\n",
        "%matplotlib inline\n",
        "import copy"
      ],
      "execution_count": 0,
      "outputs": []
    },
    {
      "cell_type": "code",
      "metadata": {
        "id": "3MfoXSuUHEuy",
        "colab_type": "code",
        "colab": {}
      },
      "source": [
        "class derby:\n",
        "\n",
        "    def __init__(self, d1, d2, d3, incline, lat=35, precision=4, actuals=[]):\n",
        "        '''\n",
        "        Initialize derby track.\n",
        "       \n",
        "        Parameters\n",
        "        ----------\n",
        "        d1 : float, list, or tuple; to be converted to float, \n",
        "            length in meters of stage 1 (inclined plane)\n",
        "        d2 : float, list, or tuple; to be converted to float, \n",
        "            length in meters of stage 2 (curved transition) \n",
        "        d3 : float, list, or tuple; to be converted to float, \n",
        "            length in meters of stage 3 (horizonatal) \n",
        "        incline : float, degrees inclination of stage 1 \n",
        "        lat : float, degrees latitude of derby location\n",
        "        precision : int, number of decimal places to which output is rounded\n",
        "        actuals : list, actual result times against which simulation is compared       \n",
        "        '''\n",
        "        \n",
        "        self.d1 = self.convert(d1)\n",
        "        self.d2 = self.convert(d2)\n",
        "        self.d3 = self.convert(d3)\n",
        "        self.theta = math.radians(incline)\n",
        "        self.g = (lat * 0.00084) + 9.7683\n",
        "        self.precision = precision\n",
        "        self.actuals = actuals\n",
        "        self.simulated = []\n",
        "        \n",
        "    def convert(self, x):\n",
        "        '''\n",
        "        Draw random number from normal or lognormal distribution and convert \n",
        "        to metric system scalar.\n",
        "       \n",
        "        Parameters\n",
        "        ----------\n",
        "        x : float, list, or tuple; number to be converted\n",
        "            if tuple or list and last element is str, unit : \n",
        "                convert from unit (e.g. ounces) to metric equivalent \n",
        "                (e.g. grams)\n",
        "            if tuple or list and 2 number elements : loc, scale of normal \n",
        "                distribution\n",
        "            if tuple or list and 3 number elements : loc, scale, shape of \n",
        "                lognormal distribution\n",
        "        \n",
        "        Returns\n",
        "        ------- \n",
        "        float, metric system scalar \n",
        "        '''\n",
        "        \n",
        "        unit = False\n",
        "        if isinstance(x, (list, tuple)):\n",
        "            if isinstance(x[-1], str):\n",
        "                unit = x[-1]\n",
        "                x = x[:len(x)-1]\n",
        "            if len(x) == 3:\n",
        "                if x[1]>=0:\n",
        "                    x = stats.lognorm.rvs(loc=x[0], scale=x[1], s=max(x[2],0.1))\n",
        "                else:\n",
        "                    x = x[0] - stats.lognorm.rvs(loc=0, scale=-x[1], \n",
        "                                                 s=max(x[2],0.1))\n",
        "            elif len(x) == 2:\n",
        "                x = stats.norm.rvs(loc=x[0], scale=x[1])\n",
        "            else: x = x[0]\n",
        "                    \n",
        "        if unit:\n",
        "            conversion_factors = {'feet':0.3048, 'inches':0.0254, \n",
        "                                  'ounces':28.3495} #to meters and grams\n",
        "            try: x = x * conversion_factors[unit]\n",
        "            except: return x\n",
        "    \n",
        "        return x\n",
        "        \n",
        "    def print_stats(self):\n",
        "        '''\n",
        "        Print usual statistics and fit results to a lognormal distribution.\n",
        "        '''\n",
        "        \n",
        "        try:\n",
        "            times_dict = {'simulated':self.simulated, 'actuals':self.actuals}\n",
        "            stats_dict = {}\n",
        "            for x in times_dict:\n",
        "                if len(times_dict[x])>0:\n",
        "                    times_dict[x]  = pd.Series(times_dict[x])\n",
        "                    usual_stats = times_dict[x].describe()\n",
        "                    logfit = pd.Series(stats.lognorm.fit(times_dict[x]), name=x)\n",
        "                    logfit.rename({0:'s = shape',\n",
        "                                   1:'loc = lower bound', \n",
        "                                   2:'scale = distance from '\\\n",
        "                                     'lower bound to median'}, \n",
        "                              axis='index', inplace=True)\n",
        "                    full_stats = pd.concat([usual_stats, logfit], \n",
        "                                           keys=['usual stats', \n",
        "                                                 'lognormal fit',])\n",
        "                    full_stats.name=x\n",
        "                    stats_dict[x] = full_stats\n",
        "            stats_df = pd.concat(stats_dict, axis=1)\n",
        "\n",
        "            return stats_df.round(self.precision)\n",
        "        \n",
        "        except: print('No data. Run simulation (with write=True)'\\\n",
        "                      'and/or load actuals first.')\n",
        "    \n",
        "    def ks_test(self, verbose=True):\n",
        "        statistic, pvalue = stats.ks_2samp(self.simulated, self.actuals)\n",
        "        if verbose:\n",
        "            print('Kolmogorov-Smirnov test that simulated and actual drawn '\\\n",
        "                  'from the same underlying distribution:')\n",
        "            print('========================================================='\\\n",
        "                  '=====================================')\n",
        "            print(f'p-value = {pvalue.round(self.precision)}')\n",
        "            if pvalue > 0.05:\n",
        "                print('Since the p-value above > 5%, we cannot reject the '\\\n",
        "                      'null hypothesis that')\n",
        "                print('simulated and actual times are drawn from the same '\\\n",
        "                      'underlying distribution.')\n",
        "        else: return pvalue\n",
        "    \n",
        "    def plot(self):\n",
        "        '''\n",
        "        Plot a histogram of the results. \n",
        "        '''\n",
        "        plt.figure(figsize=(10, 7))\n",
        "        sns.set(font_scale=1.2)\n",
        "        \n",
        "        if len(self.simulated) > 0:\n",
        "            sns.distplot(self.simulated, color='orange', \n",
        "                         axlabel='Distribution of Simulated Times')\n",
        "        if len(self.actuals) > 0:\n",
        "            sns.distplot(self.actuals, color='steelblue', \n",
        "                         axlabel='Distribution of Simulated (orange) '\\\n",
        "                                 'vs Actual (blue) Times')    \n",
        "    \n",
        "    def report(self):\n",
        "        '''\n",
        "        Combines stats and histogram of the results. \n",
        "        '''\n",
        "        \n",
        "        if len(self.actuals) > 0:\n",
        "            print('Comparing Simulated and Actual Times')\n",
        "            print(self.print_stats(),'\\n')\n",
        "            self.ks_test()\n",
        "        else:\n",
        "            print('Simulation Statistics')\n",
        "            print(self.print_stats(),'\\n')\n",
        "        self.plot()\n",
        "    \n",
        "    def acceleration(self, theta, m_car, wheels, m_wheel, r_inner, r_outer, \n",
        "                     ckf_w=0, ckf_r=0, crf=0):     \n",
        "        '''\n",
        "        Takes arguments sent to self.simulate() and returns acceleration for \n",
        "        each stage of the track.\n",
        "        '''\n",
        "        \n",
        "        alpha_w = 1 - wheels * m_wheel/m_car\n",
        "        alpha_r = 1 + 0.58 * wheels * m_wheel/m_car \n",
        "        #0.58 is moment of inertia coefficient, estimated\n",
        "\n",
        "        mechanical_advantage = r_outer/r_inner\n",
        "        ckf_w = ckf_w/mechanical_advantage \n",
        "        #ckf, adjusted for mechanical advantage\n",
        "        \n",
        "        friction = ckf_w * alpha_w  + crf + ckf_r\n",
        "        \n",
        "        return self.g * (math.sin(theta) - (math.cos(theta) * friction))/alpha_r\n",
        "    \n",
        "    def simulate(self, runs=1, show=True, write=True,\n",
        "                 m_car=[5,'ounces'], wheels=4, m_wheel=2.636, \n",
        "                 r_inner = 0.113, r_outer = 1.515, \n",
        "                 ckf_w=0, ckf_r=0, crf=0, cog_adj=0): \n",
        "        '''\n",
        "        Simulate a Pinewood Derby run or runs.\n",
        "       \n",
        "        Parameters\n",
        "        ----------\n",
        "        runs : int, number of individual race times to be simulated\n",
        "        show : bool, if True, return result time\n",
        "        write : bool, if True, write result time(s) to list self.simulated\n",
        "        m_car : float, mass of car, by default in ounces\n",
        "        m_wheel : float, mass of each wheel, not counting the axle, \n",
        "            by default in grams\n",
        "        wheels : float, number of wheels per car\n",
        "        r_inner, r_outer : float, inner and outer radius of wheel, \n",
        "            in same unit, by default in cm\n",
        "        ckf_w : float, coefficient of kinetic (sliding) friction, \n",
        "            between wheel and axle\n",
        "        ckf_r : float, coefficient of kinetic (sliding) friction, \n",
        "            between car and rails\n",
        "        crf : float, coefficient of rolling friction, or rolling resistance\n",
        "        cog_adj : float, rearward adjustment to center of gravity in meters\n",
        "        \n",
        "        Returns\n",
        "        -------\n",
        "        if show is True : float, time to finish line in seconds\n",
        "        '''\n",
        "        \n",
        "        results = [] #set up empty list to hold our run results\n",
        "        for i in range(int(runs)):\n",
        "            m_wheel_, m_car_ = self.convert(m_wheel), self.convert(m_car) \n",
        "            wheels_ = self.convert(wheels)\n",
        "            r_inner_, r_outer_ = self.convert(r_inner), self.convert(r_outer)\n",
        "            cog_adj_ = self.convert(cog_adj)\n",
        "            ckf_w_, ckf_r_ = self.convert(ckf_w), self.convert(ckf_r)\n",
        "            crf_ = self.convert(crf)\n",
        "\n",
        "            #stage 1: inclined plane\n",
        "            a1 = self.acceleration(self.theta, m_car_, wheels_, m_wheel_, \n",
        "                                   r_inner_, r_outer_, ckf_w_, ckf_r_, crf_)\n",
        "            d1 = self.d1 + cog_adj_\n",
        "            t1 = (2 * d1/a1)**0.5\n",
        "\n",
        "            #stage 2: curved incline\n",
        "            v1 = t1 * a1\n",
        "            a2 = self.acceleration(self.theta/2, m_car_, wheels_, m_wheel_, \n",
        "                                   r_inner_, r_outer_, ckf_w_, ckf_r_, crf_) \n",
        "            v2 = (v1**2 + 2*a2*self.d2)**0.5\n",
        "            t2 = 2 * self.d2/(v1 + v2)\n",
        "\n",
        "            # stage 3: horizontal\n",
        "            a3 = self.acceleration(0, m_car_, wheels_, m_wheel_, r_inner_, \n",
        "                                   r_outer_, ckf_w_, ckf_r_, crf_) \n",
        "            d3 = self.d3 - cog_adj_\n",
        "            v3 = (v2**2 + 2*a3*self.d3)**0.5\n",
        "            t3 = 2 * d3/(v2 + v3)  #note: = d3/v2 when frictionless\n",
        "\n",
        "            t_total = round(t1 + t2 + t3, self.precision)\n",
        "            \n",
        "            if not math.isnan(t_total): results.append(t_total)\n",
        "                \n",
        "        if write: self.simulated = results\n",
        "        if show: \n",
        "            if len(results)==1: results = results[0]\n",
        "            return results\n",
        "        \n",
        "    def simulate_rounds(self, rounds=10, \n",
        "                        report_round=None, nudge_round=None, **kwargs):\n",
        "        ''' \n",
        "        Simulate one or more rounds of one or more runs per round.\n",
        "       \n",
        "        Parameters\n",
        "        ----------\n",
        "        rounds : int, number of rounds\n",
        "        report_round : int or None\n",
        "            if None, return table of simulated rounds or nudge round\n",
        "            if int, return report of summary statistics and comparison \n",
        "                to actuals for a particular round\n",
        "        nudge_round : list, tuple, or None\n",
        "            if None, return table of simulated rounds \n",
        "                or report a particular round\n",
        "            if list or tuple, \n",
        "                first item (item 0) = round to be nudged\n",
        "                second item (item 0) = standard deviation, \n",
        "                    as a proportion of loc, \n",
        "                    that each non-loc parameter is to vary\n",
        "        **kwargs : arbitrary keyword arguments: \n",
        "            parameters to be passed on to self.simulate()\n",
        "        \n",
        "        Returns\n",
        "        -------\n",
        "        see report_round parameter\n",
        "        '''         \n",
        "        def convert_and_round(x):\n",
        "            return self.convert(x).round(self.precision)\n",
        "\n",
        "        if report_round is None and nudge_round is None:\n",
        "            df = pd.DataFrame()\n",
        "            for i in range(rounds):\n",
        "                kwargs_ = copy.deepcopy(kwargs)\n",
        "                for key, value in kwargs_.items():\n",
        "                    if isinstance(value, (list, tuple)): \n",
        "                        for i, x in enumerate(value):\n",
        "                            if isinstance(x, (list, tuple)): \n",
        "                                kwargs_[key][i] = convert_and_round(x)\n",
        "\n",
        "                self.simulate(**kwargs_)\n",
        "\n",
        "                kwargs_['count'] = len(self.simulated)      \n",
        "                kwargs_['p-value'] = self.ks_test(verbose=False)\n",
        "                df = df.append(kwargs_, ignore_index=True)\n",
        "                df = df[[*kwargs_]] \n",
        "                #unpack kwargs_ keys as list to order df columns\n",
        "                self.simulated_rounds = df.sort_values(by='p-value', \n",
        "                                                       ascending=False)\n",
        "            return self.simulated_rounds\n",
        "        \n",
        "        elif isinstance(nudge_round, (list, tuple)): \n",
        "            nudge = nudge_round[1]\n",
        "            newdict = self.simulated_rounds.loc[nudge_round[0]].to_dict()\n",
        "            del newdict['p-value']\n",
        "            del newdict['count']\n",
        "            for key, value in newdict.items():\n",
        "                if isinstance(value, (list, tuple)):\n",
        "                    for i in [1,2]:\n",
        "                        try:\n",
        "                            j = newdict[key][i]\n",
        "                            newdict[key][i] = [j, abs(j * nudge)]\n",
        "                        except: pass\n",
        "            return self.simulate_rounds(rounds=rounds, **newdict)\n",
        "        \n",
        "        else:\n",
        "            newdict =  self.simulated_rounds.loc[report_round].to_dict()\n",
        "            del newdict['p-value']\n",
        "            del newdict['count']\n",
        "            self.simulate(show=False, **newdict)\n",
        "            self.report()\n",
        "            "
      ],
      "execution_count": 0,
      "outputs": []
    },
    {
      "cell_type": "markdown",
      "metadata": {
        "id": "CIviXA6dHEu5",
        "colab_type": "text"
      },
      "source": [
        "### OKC Pack 27 Individual Time Simulations"
      ]
    },
    {
      "cell_type": "markdown",
      "metadata": {
        "id": "nd-Qer6_HEu6",
        "colab_type": "text"
      },
      "source": [
        "Create an instance of the class `derby` matching pack 27's track: the 42' BestTrack here http://www.besttrack.com/track_specs.html"
      ]
    },
    {
      "cell_type": "code",
      "metadata": {
        "id": "tfvG3KW9HEu7",
        "colab_type": "code",
        "colab": {}
      },
      "source": [
        "pack27 = derby([7,'feet'],[41,'inches'],[28,'feet'],26) \n",
        "#i.e. 7' staight ramp with 26-degree incline, 41\" curved portion, 28' horizontal"
      ],
      "execution_count": 0,
      "outputs": []
    },
    {
      "cell_type": "markdown",
      "metadata": {
        "id": "6-IlITocHEvA",
        "colab_type": "text"
      },
      "source": [
        "Simulate a run involving 0 friction, 0 energy used spinning wheels, and a center of gravity just inside the back axle. This is the theoretically fastest time on the track."
      ]
    },
    {
      "cell_type": "code",
      "metadata": {
        "id": "yTSpJ_qLHEvB",
        "colab_type": "code",
        "outputId": "fe6c7f8a-feda-460c-8b3d-cc7b1fef339b",
        "colab": {
          "base_uri": "https://localhost:8080/",
          "height": 34
        }
      },
      "source": [
        "pack27.simulate(wheels=0, ckf_w=0, ckf_r=0, crf=0, cog_adj=0.055)"
      ],
      "execution_count": 6,
      "outputs": [
        {
          "output_type": "execute_result",
          "data": {
            "text/plain": [
              "2.9898"
            ]
          },
          "metadata": {
            "tags": []
          },
          "execution_count": 6
        }
      ]
    },
    {
      "cell_type": "markdown",
      "metadata": {
        "id": "MhXL4JkxHEvK",
        "colab_type": "text"
      },
      "source": [
        "Simulate the 0 friction case but factor in energy used to spin wheels. This is the fastest possible time with stock wheels."
      ]
    },
    {
      "cell_type": "code",
      "metadata": {
        "id": "bx3ydU2bHEvL",
        "colab_type": "code",
        "outputId": "d136494f-da8e-4654-a0bd-1481a29e75b9",
        "colab": {
          "base_uri": "https://localhost:8080/",
          "height": 34
        }
      },
      "source": [
        "pack27.simulate(wheels = 4, m_wheel=2.636, \n",
        "                ckf_w=0, ckf_r=0, crf=0, cog_adj=0.055)"
      ],
      "execution_count": 7,
      "outputs": [
        {
          "output_type": "execute_result",
          "data": {
            "text/plain": [
              "3.0537"
            ]
          },
          "metadata": {
            "tags": []
          },
          "execution_count": 7
        }
      ]
    },
    {
      "cell_type": "markdown",
      "metadata": {
        "id": "WwMbpJoAHEvR",
        "colab_type": "text"
      },
      "source": [
        "Here is a simulation that gets close to the actual winning time of 3.14 secs. This can be improved with some combination of\n",
        "* lighter wheels\n",
        "* wheels with lower rolling resistance (`crf`)\n",
        "* a center of gravity that is farther back (`cog_adj=0.03` means a center of gravity 3cm rearward from the middle of the car)\n",
        "* a lower coefficient of kinetic friction `ckf_w` between the wheel and the axle\n",
        "* a lower coefficient of kinetic friction `ckf_r` between parts of the car touching the rail and the rail"
      ]
    },
    {
      "cell_type": "code",
      "metadata": {
        "id": "IuiYyYxgHEvT",
        "colab_type": "code",
        "outputId": "6195fd30-f348-4051-b355-a8ff3178a905",
        "colab": {
          "base_uri": "https://localhost:8080/",
          "height": 34
        }
      },
      "source": [
        "pack27.simulate(wheels = 4, m_wheel=2.636, \n",
        "                ckf_w=0.08, ckf_r=0, crf=0.0053, cog_adj=0.03)"
      ],
      "execution_count": 8,
      "outputs": [
        {
          "output_type": "execute_result",
          "data": {
            "text/plain": [
              "3.1402"
            ]
          },
          "metadata": {
            "tags": []
          },
          "execution_count": 8
        }
      ]
    },
    {
      "cell_type": "markdown",
      "metadata": {
        "id": "kGmQyma2HEvZ",
        "colab_type": "text"
      },
      "source": [
        "Here is an example of simulating 6 runs while letting the following variables vary randomly:\n",
        "* the coefficient of kinetic friction `ckf_w` between the wheel and the axle, and\n",
        "* the center of gravity adjustment `cog_adj`"
      ]
    },
    {
      "cell_type": "code",
      "metadata": {
        "id": "13sDFWMlHEvb",
        "colab_type": "code",
        "outputId": "32a3480c-fce4-43c8-8643-31d2ce5c7532",
        "colab": {
          "base_uri": "https://localhost:8080/",
          "height": 34
        }
      },
      "source": [
        "pack27.simulate(runs=6, wheels=4, m_wheel=2.636, \n",
        "                ckf_w=[0.06,0.04,0.8], crf=0.0053, cog_adj=[0.01,0.01])"
      ],
      "execution_count": 9,
      "outputs": [
        {
          "output_type": "execute_result",
          "data": {
            "text/plain": [
              "[3.1416, 3.1799, 3.1434, 3.1543, 3.2361, 3.1859]"
            ]
          },
          "metadata": {
            "tags": []
          },
          "execution_count": 9
        }
      ]
    },
    {
      "cell_type": "markdown",
      "metadata": {
        "id": "aqw79Y12HEvg",
        "colab_type": "text"
      },
      "source": [
        "In the line above, the variable assignment `cog_adj=[0.01,0.01]` means that the center of gravity adjustment follows a normal probability distribution (i.e. a bell curve) with mean and standard deviation both equal to 0.01. When you run the line above, 6 draws are made at random from the distribution and used as the center of gravity adjustment contributing to the six run times. The distribution looks like this:\n"
      ]
    },
    {
      "cell_type": "code",
      "metadata": {
        "id": "bhGQShS9HEvi",
        "colab_type": "code",
        "outputId": "345215e5-5497-49d3-c98a-3f51af78f387",
        "colab": {
          "base_uri": "https://localhost:8080/",
          "height": 282
        }
      },
      "source": [
        "cog_adj=[0.01,0.01]\n",
        "\n",
        "mean = cog_adj[0]\n",
        "standard_deviation = cog_adj[1]\n",
        "\n",
        "dist = []\n",
        "for i in range(1000):\n",
        "    x = stats.norm.rvs(loc=mean, scale=standard_deviation)\n",
        "    dist.append(x)\n",
        "\n",
        "sns.distplot(dist, bins= 50, fit=stats.norm, kde=False)"
      ],
      "execution_count": 10,
      "outputs": [
        {
          "output_type": "execute_result",
          "data": {
            "text/plain": [
              "<matplotlib.axes._subplots.AxesSubplot at 0x7f4160589b70>"
            ]
          },
          "metadata": {
            "tags": []
          },
          "execution_count": 10
        },
        {
          "output_type": "display_data",
          "data": {
            "image/png": "[encoded data removed]",
            "text/plain": [
              "<Figure size 432x288 with 1 Axes>"
            ]
          },
          "metadata": {
            "tags": []
          }
        }
      ]
    },
    {
      "cell_type": "markdown",
      "metadata": {
        "id": "V3QoVFVPHEvo",
        "colab_type": "text"
      },
      "source": [
        "The variable assignment `ckf_w=[0.06,0.04,0.8]` means that the coefficient of kinetic (sliding) friction between the wheel and axle follows a lognormal probability distribution with \n",
        "* lower bound = 0.06\n",
        "* the distance from the lower bound to the median = 0.04, and \n",
        "* the shape of the distribution = 0.8. \n",
        "\n",
        "See here for how the shape parameter impacts the distribution\n",
        "https://www.statisticshowto.datasciencecentral.com/lognormal-distribution/\n",
        "https://www.itl.nist.gov/div898/handbook/eda/section3/eda3669.htm\n",
        "\n",
        "When you run the line above, 6 draws are made at random from the distribution and used as inputs to calculate the six run times. The distribution looks like this:"
      ]
    },
    {
      "cell_type": "code",
      "metadata": {
        "id": "Qq-Jay6dHEvq",
        "colab_type": "code",
        "outputId": "66110f0f-676e-4ec0-faeb-e13cd84ca87b",
        "colab": {
          "base_uri": "https://localhost:8080/",
          "height": 282
        }
      },
      "source": [
        "ckf_w=[0.06,0.04,0.8]\n",
        "\n",
        "floor = ckf_w[0]\n",
        "median = ckf_w[1]\n",
        "shape = ckf_w[2]\n",
        "\n",
        "dist = []\n",
        "for i in range(1000):\n",
        "    x = stats.lognorm.rvs(loc=floor, scale=median, s=shape)\n",
        "    dist.append(x)\n",
        "\n",
        "sns.distplot(dist, bins= 50, fit=stats.lognorm, kde=False)"
      ],
      "execution_count": 11,
      "outputs": [
        {
          "output_type": "execute_result",
          "data": {
            "text/plain": [
              "<matplotlib.axes._subplots.AxesSubplot at 0x7f415ffa9470>"
            ]
          },
          "metadata": {
            "tags": []
          },
          "execution_count": 11
        },
        {
          "output_type": "display_data",
          "data": {
            "image/png": "[encoded data removed]",
            "text/plain": [
              "<Figure size 432x288 with 1 Axes>"
            ]
          },
          "metadata": {
            "tags": []
          }
        }
      ]
    },
    {
      "cell_type": "markdown",
      "metadata": {
        "id": "QFvXonewHEvv",
        "colab_type": "text"
      },
      "source": [
        "### Now we are ready to simulate OKC Pack 27 Race Day: Letting car specs vary randomly and simulating multiple runs.\n",
        "\n",
        "First, let's load in the actual times from the 2019 prelimary rounds. We'll see how close our simulation can get to the distribution of actual times."
      ]
    },
    {
      "cell_type": "code",
      "metadata": {
        "id": "r3NNpAqqHEvw",
        "colab_type": "code",
        "colab": {}
      },
      "source": [
        "pack27.actuals = [3.3345, 3.3947, 3.8987, 3.1707, 3.4671, 3.6783, 3.6063, \n",
        "                  3.5617, 3.3061, 3.1887, 3.4537, 3.325, 3.2297, 3.4305, \n",
        "                 3.2234, 3.3049, 3.5084, 3.6927, 3.9371, 3.1629, 3.5765, \n",
        "                  3.4617, 3.3243, 3.2499, 3.537, 3.6073, 3.5268, 3.5108, \n",
        "                 3.2174, 3.2173, 3.5565, 3.2477, 3.1661, 3.4503, 3.4981, 3.9206, \n",
        "                  3.1767, 3.6604, 3.6171, 3.4027, 3.3691, 3.171, \n",
        "                 3.4581, 3.2043, 3.3294, 3.3234, 3.2515, 3.571, 3.3818, 3.9779, \n",
        "                  3.1644, 3.6554, 3.2073, 3.507, 3.706, 3.7046, \n",
        "                 3.524, 3.5849, 3.8685, 3.4643, 3.2563, 3.1564, 3.4699, 3.2096, \n",
        "                  3.5435, 3.1754, 3.2103, 3.3805, 3.3541, 3.911, \n",
        "                 3.1733, 3.8078, 3.3306, 3.5754, 3.4956, 3.2321, 3.6463, 3.3248, \n",
        "                  3.1933, 3.3752, 3.4905, 4.1457, 3.3194, 3.2773, \n",
        "                 3.3149, 3.2656, 3.1715, 3.228, 3.3822, 3.4723, 3.3717, 3.4907, \n",
        "                  3.964, 3.2865, 3.2415, 3.3732, 3.2431, 3.194, \n",
        "                 3.2338, 3.3487, 3.5, 4.0588, 3.5364, 3.5933, 3.3432, 3.2503, \n",
        "                  3.3826, 3.2154, 3.2467, 3.2331, 3.3632, 3.4893, \n",
        "                 4.0802, 3.2984, 3.6432, 3.3207, 3.2605, 3.3621, 3.1977, 3.3718, \n",
        "                  3.71, 3.2787, 3.1708, 3.6621, 4.0157, 3.4766, \n",
        "                 3.3816, 3.2951, 3.2537, 3.272, 3.7686, 3.2901, 3.2453, 3.2162, \n",
        "                  3.5613, 3.2045, 3.7577, 3.6657, 3.3512, 3.2534, \n",
        "                 3.2811, 3.7761, 3.6364, 3.1932, 3.1744, 3.5817, 3.1927, 4.9484, \n",
        "                  3.4269, 3.2936, 3.2796, 3.2761, 3.6613, 3.7732, \n",
        "                 3.2542, 3.6226, 3.67, 3.1949, 4.5999, 3.6028, 3.3013, 3.2799, \n",
        "                  3.2882, 3.754, 3.7163, 3.3539, 3.1738, 3.2049, \n",
        "                 3.2088, 4.0982, 3.6486, 3.2735, 3.2694, 3.7146, 3.8732, 3.7433, \n",
        "                  3.4618, 3.3425, 3.5404, 4.5139, 4.8603, 3.6335, \n",
        "                 3.29, 3.1906, 3.296, 3.6439, 3.7376, 3.402, 3.3767, 3.2768, \n",
        "                  3.218, 3.6492, 3.5203, 3.2059, 3.4544, 3.2946, \n",
        "                 3.3882, 3.956, 3.3881, 4.0722, 3.3933, 3.2819, 3.487, 3.4115, \n",
        "                  3.2072, 3.4183, 3.307, 3.368, 3.3213, 3.3656, \n",
        "                 4.2748, 3.3237, 3.322, 3.4415, 3.2418, 3.3804, 3.4118, 3.2542, \n",
        "                  3.3696, 3.3262, 4.1394, 3.3447, 3.4351, 3.2576, \n",
        "                 3.439, 3.2121, 3.4374, 3.385, 3.3502, 3.4076, 3.3133, 4.0541, \n",
        "                  3.3451, 3.4815, 3.2921, 3.4545, 3.226, 3.427, \n",
        "                 3.3717, 3.3695, 3.3987, 3.3648, 4.177, 3.3906, 3.3119, 3.2859, \n",
        "                  3.3103, 3.196, 3.3408, 3.2823, 3.4573, 3.4274, \n",
        "                 3.3172, 3.2449, 3.2924, 3.2756, 3.273, 3.4468, 3.3129, 3.2059, \n",
        "                  3.4059, 3.3426, 3.2763, 3.4285, 3.3208, 3.2202, \n",
        "                 3.2346, 3.3067, 3.2833, 3.3869, 3.2802, 3.231, 3.2918, 3.2749, \n",
        "                  3.4209, 3.2688, 3.5103, 3.5277, 3.3807, 3.6383, \n",
        "                 3.3847, 3.1907, 3.326, 3.3078, 3.2171, 3.2561, 3.4034, 3.4015, \n",
        "                  3.4129, 3.6345, 3.5952, 3.394, 3.1893, 3.2533, \n",
        "                 3.221, 3.2264, 3.2759, 3.4078, 3.6477, 3.4456, 3.5092, 3.4279, \n",
        "                  3.6053, 3.469, 3.2576, 3.1806, 3.5231, 3.2294, \n",
        "                 3.2164, 3.3088, 3.4325, 3.7363, 3.7257, 3.5332, 3.4443, 3.4136, \n",
        "                  3.2079, 3.3237, 3.2255, 3.2911, 3.5768, 3.1756, 3.4643, 3.47]\n"
      ],
      "execution_count": 0,
      "outputs": []
    },
    {
      "cell_type": "markdown",
      "metadata": {
        "id": "xqXjRCN-HEv1",
        "colab_type": "text"
      },
      "source": [
        "Now, let's simulate a round and compare the simulated round with the actuals above."
      ]
    },
    {
      "cell_type": "code",
      "metadata": {
        "id": "djcSF1fHHEv2",
        "colab_type": "code",
        "outputId": "f0a0f949-9a77-419b-e553-e3fd535efbe9",
        "colab": {
          "base_uri": "https://localhost:8080/",
          "height": 777
        }
      },
      "source": [
        "specs = {'m_wheel': 2.636, \n",
        "        'm_car': [5,-0.2,0.8,'ounces'], \n",
        "         #note: a negative value for the scale param \n",
        "         #means loc is a ceiling (rather than floor)\n",
        "        'ckf_w': [0.06,0.04,0.8],\n",
        "        'ckf_r': [0,0.025,1], \n",
        "        'crf': 0.0053, \n",
        "        'cog_adj': [0.01,0.01]}\n",
        "\n",
        "pack27.simulate(runs=324,show=False, **specs)\n",
        "pack27.report()"
      ],
      "execution_count": 13,
      "outputs": [
        {
          "output_type": "stream",
          "text": [
            "Comparing Simulated and Actual Times\n",
            "                                                           simulated   actuals\n",
            "usual stats   count                                         286.0000  324.0000\n",
            "              mean                                            3.4412    3.4365\n",
            "              std                                             0.2892    0.2599\n",
            "              min                                             3.1683    3.1564\n",
            "              25%                                             3.2617    3.2692\n",
            "              50%                                             3.3470    3.3707\n",
            "              75%                                             3.4960    3.5233\n",
            "              max                                             5.3144    4.9484\n",
            "lognormal fit s = shape                                       0.8768    0.7767\n",
            "              loc = lower bound                               3.1499    3.1258\n",
            "              scale = distance from lower bound to median     0.1996    0.2322 \n",
            "\n",
            "Kolmogorov-Smirnov test that simulated and actual drawn from the same underlying distribution:\n",
            "==============================================================================================\n",
            "p-value = 0.4822\n",
            "Since the p-value above > 5%, we cannot reject the null hypothesis that\n",
            "simulated and actual times are drawn from the same underlying distribution.\n"
          ],
          "name": "stdout"
        },
        {
          "output_type": "display_data",
          "data": {
            "image/png": "[encoded data removed]",
            "text/plain": [
              "<Figure size 720x504 with 1 Axes>"
            ]
          },
          "metadata": {
            "tags": []
          }
        }
      ]
    },
    {
      "cell_type": "markdown",
      "metadata": {
        "id": "oNFJCYI8HEv9",
        "colab_type": "text"
      },
      "source": [
        "Pretty close, but can we get closer? Simulate 100 rounds of 324 runs each, letting the distributions of car specs vary."
      ]
    },
    {
      "cell_type": "code",
      "metadata": {
        "id": "CbDb-atKHEv-",
        "colab_type": "code",
        "outputId": "f56c8575-d080-49e9-a224-3302534aaa3c",
        "colab": {
          "base_uri": "https://localhost:8080/",
          "height": 359
        }
      },
      "source": [
        "specs = {'m_wheel': 2.636, \n",
        "        'm_car': [5,[-0.2,0.02],[0.8,0.08], 'ounces'], \n",
        "        'ckf_w': [0.06,[0.04,0.004],[0.8,0.08]],\n",
        "        'ckf_r': [0,[0.025,0.003],[1,0.1]],\n",
        "        'crf': 0.0053, \n",
        "        'cog_adj': [0.01,[0.01,0.001]]}\n",
        "\n",
        "pack27.simulate_rounds(rounds=100, runs=324, **specs).head(10)"
      ],
      "execution_count": 14,
      "outputs": [
        {
          "output_type": "execute_result",
          "data": {
            "text/html": [
              "<div>\n",
              "<style scoped>\n",
              "    .dataframe tbody tr th:only-of-type {\n",
              "        vertical-align: middle;\n",
              "    }\n",
              "\n",
              "    .dataframe tbody tr th {\n",
              "        vertical-align: top;\n",
              "    }\n",
              "\n",
              "    .dataframe thead th {\n",
              "        text-align: right;\n",
              "    }\n",
              "</style>\n",
              "<table border=\"1\" class=\"dataframe\">\n",
              "  <thead>\n",
              "    <tr style=\"text-align: right;\">\n",
              "      <th></th>\n",
              "      <th>runs</th>\n",
              "      <th>m_wheel</th>\n",
              "      <th>m_car</th>\n",
              "      <th>ckf_w</th>\n",
              "      <th>ckf_r</th>\n",
              "      <th>crf</th>\n",
              "      <th>cog_adj</th>\n",
              "      <th>count</th>\n",
              "      <th>p-value</th>\n",
              "    </tr>\n",
              "  </thead>\n",
              "  <tbody>\n",
              "    <tr>\n",
              "      <th>44</th>\n",
              "      <td>324.0</td>\n",
              "      <td>2.636</td>\n",
              "      <td>[5, -0.2173, 0.8219, ounces]</td>\n",
              "      <td>[0.06, 0.0437, 0.7898]</td>\n",
              "      <td>[0, 0.022, 1.0164]</td>\n",
              "      <td>0.0053</td>\n",
              "      <td>[0.01, 0.0117]</td>\n",
              "      <td>293.0</td>\n",
              "      <td>0.854011</td>\n",
              "    </tr>\n",
              "    <tr>\n",
              "      <th>79</th>\n",
              "      <td>324.0</td>\n",
              "      <td>2.636</td>\n",
              "      <td>[5, -0.1632, 0.7591, ounces]</td>\n",
              "      <td>[0.06, 0.0377, 0.7866]</td>\n",
              "      <td>[0, 0.0256, 1.0406]</td>\n",
              "      <td>0.0053</td>\n",
              "      <td>[0.01, 0.0101]</td>\n",
              "      <td>292.0</td>\n",
              "      <td>0.774419</td>\n",
              "    </tr>\n",
              "    <tr>\n",
              "      <th>53</th>\n",
              "      <td>324.0</td>\n",
              "      <td>2.636</td>\n",
              "      <td>[5, -0.2003, 0.7884, ounces]</td>\n",
              "      <td>[0.06, 0.0333, 0.9333]</td>\n",
              "      <td>[0, 0.0219, 0.9214]</td>\n",
              "      <td>0.0053</td>\n",
              "      <td>[0.01, 0.0107]</td>\n",
              "      <td>309.0</td>\n",
              "      <td>0.735547</td>\n",
              "    </tr>\n",
              "    <tr>\n",
              "      <th>0</th>\n",
              "      <td>324.0</td>\n",
              "      <td>2.636</td>\n",
              "      <td>[5, -0.1857, 0.8419, ounces]</td>\n",
              "      <td>[0.06, 0.0433, 0.8024]</td>\n",
              "      <td>[0, 0.0218, 0.9751]</td>\n",
              "      <td>0.0053</td>\n",
              "      <td>[0.01, 0.0097]</td>\n",
              "      <td>300.0</td>\n",
              "      <td>0.691591</td>\n",
              "    </tr>\n",
              "    <tr>\n",
              "      <th>36</th>\n",
              "      <td>324.0</td>\n",
              "      <td>2.636</td>\n",
              "      <td>[5, -0.1964, 0.8774, ounces]</td>\n",
              "      <td>[0.06, 0.0383, 0.7261]</td>\n",
              "      <td>[0, 0.0223, 0.9634]</td>\n",
              "      <td>0.0053</td>\n",
              "      <td>[0.01, 0.0106]</td>\n",
              "      <td>300.0</td>\n",
              "      <td>0.686410</td>\n",
              "    </tr>\n",
              "    <tr>\n",
              "      <th>88</th>\n",
              "      <td>324.0</td>\n",
              "      <td>2.636</td>\n",
              "      <td>[5, -0.2251, 0.6369, ounces]</td>\n",
              "      <td>[0.06, 0.0381, 0.8439]</td>\n",
              "      <td>[0, 0.0287, 1.1824]</td>\n",
              "      <td>0.0053</td>\n",
              "      <td>[0.01, 0.0084]</td>\n",
              "      <td>284.0</td>\n",
              "      <td>0.675900</td>\n",
              "    </tr>\n",
              "    <tr>\n",
              "      <th>83</th>\n",
              "      <td>324.0</td>\n",
              "      <td>2.636</td>\n",
              "      <td>[5, -0.2391, 0.8482, ounces]</td>\n",
              "      <td>[0.06, 0.0382, 0.8519]</td>\n",
              "      <td>[0, 0.0259, 1.0405]</td>\n",
              "      <td>0.0053</td>\n",
              "      <td>[0.01, 0.0097]</td>\n",
              "      <td>277.0</td>\n",
              "      <td>0.636265</td>\n",
              "    </tr>\n",
              "    <tr>\n",
              "      <th>61</th>\n",
              "      <td>324.0</td>\n",
              "      <td>2.636</td>\n",
              "      <td>[5, -0.21, 0.8538, ounces]</td>\n",
              "      <td>[0.06, 0.0345, 0.6666]</td>\n",
              "      <td>[0, 0.0256, 0.9798]</td>\n",
              "      <td>0.0053</td>\n",
              "      <td>[0.01, 0.0099]</td>\n",
              "      <td>289.0</td>\n",
              "      <td>0.618946</td>\n",
              "    </tr>\n",
              "    <tr>\n",
              "      <th>52</th>\n",
              "      <td>324.0</td>\n",
              "      <td>2.636</td>\n",
              "      <td>[5, -0.1932, 0.8063, ounces]</td>\n",
              "      <td>[0.06, 0.0378, 0.9015]</td>\n",
              "      <td>[0, 0.0255, 1.0006]</td>\n",
              "      <td>0.0053</td>\n",
              "      <td>[0.01, 0.0088]</td>\n",
              "      <td>279.0</td>\n",
              "      <td>0.599229</td>\n",
              "    </tr>\n",
              "    <tr>\n",
              "      <th>70</th>\n",
              "      <td>324.0</td>\n",
              "      <td>2.636</td>\n",
              "      <td>[5, -0.1798, 0.9152, ounces]</td>\n",
              "      <td>[0.06, 0.0369, 0.7365]</td>\n",
              "      <td>[0, 0.0255, 1.0909]</td>\n",
              "      <td>0.0053</td>\n",
              "      <td>[0.01, 0.0113]</td>\n",
              "      <td>282.0</td>\n",
              "      <td>0.578410</td>\n",
              "    </tr>\n",
              "  </tbody>\n",
              "</table>\n",
              "</div>"
            ],
            "text/plain": [
              "     runs  m_wheel  ...  count   p-value\n",
              "44  324.0    2.636  ...  293.0  0.854011\n",
              "79  324.0    2.636  ...  292.0  0.774419\n",
              "53  324.0    2.636  ...  309.0  0.735547\n",
              "0   324.0    2.636  ...  300.0  0.691591\n",
              "36  324.0    2.636  ...  300.0  0.686410\n",
              "88  324.0    2.636  ...  284.0  0.675900\n",
              "83  324.0    2.636  ...  277.0  0.636265\n",
              "61  324.0    2.636  ...  289.0  0.618946\n",
              "52  324.0    2.636  ...  279.0  0.599229\n",
              "70  324.0    2.636  ...  282.0  0.578410\n",
              "\n",
              "[10 rows x 9 columns]"
            ]
          },
          "metadata": {
            "tags": []
          },
          "execution_count": 14
        }
      ]
    },
    {
      "cell_type": "markdown",
      "metadata": {
        "id": "q85UulrdHEwH",
        "colab_type": "text"
      },
      "source": [
        "Pick the best round above and nudge the specs a little to see if we can get closer still."
      ]
    },
    {
      "cell_type": "code",
      "metadata": {
        "id": "vGlIjDpsHEwJ",
        "colab_type": "code",
        "outputId": "eede5c26-188e-442a-c010-3aa32d6e92b3",
        "colab": {
          "base_uri": "https://localhost:8080/",
          "height": 359
        }
      },
      "source": [
        "pack27.simulate_rounds(nudge_round=[72,0.001])"
      ],
      "execution_count": 15,
      "outputs": [
        {
          "output_type": "execute_result",
          "data": {
            "text/html": [
              "<div>\n",
              "<style scoped>\n",
              "    .dataframe tbody tr th:only-of-type {\n",
              "        vertical-align: middle;\n",
              "    }\n",
              "\n",
              "    .dataframe tbody tr th {\n",
              "        vertical-align: top;\n",
              "    }\n",
              "\n",
              "    .dataframe thead th {\n",
              "        text-align: right;\n",
              "    }\n",
              "</style>\n",
              "<table border=\"1\" class=\"dataframe\">\n",
              "  <thead>\n",
              "    <tr style=\"text-align: right;\">\n",
              "      <th></th>\n",
              "      <th>runs</th>\n",
              "      <th>m_wheel</th>\n",
              "      <th>m_car</th>\n",
              "      <th>ckf_w</th>\n",
              "      <th>ckf_r</th>\n",
              "      <th>crf</th>\n",
              "      <th>cog_adj</th>\n",
              "      <th>count</th>\n",
              "      <th>p-value</th>\n",
              "    </tr>\n",
              "  </thead>\n",
              "  <tbody>\n",
              "    <tr>\n",
              "      <th>8</th>\n",
              "      <td>324.0</td>\n",
              "      <td>2.636</td>\n",
              "      <td>[5, -0.1794, 0.7797, ounces]</td>\n",
              "      <td>[0.06, 0.0375, 0.6937]</td>\n",
              "      <td>[0, 0.0258, 1.0326]</td>\n",
              "      <td>0.0053</td>\n",
              "      <td>[0.01, 0.01]</td>\n",
              "      <td>285.0</td>\n",
              "      <td>0.973700</td>\n",
              "    </tr>\n",
              "    <tr>\n",
              "      <th>5</th>\n",
              "      <td>324.0</td>\n",
              "      <td>2.636</td>\n",
              "      <td>[5, -0.1792, 0.7801, ounces]</td>\n",
              "      <td>[0.06, 0.0375, 0.6932]</td>\n",
              "      <td>[0, 0.0257, 1.0317]</td>\n",
              "      <td>0.0053</td>\n",
              "      <td>[0.01, 0.01]</td>\n",
              "      <td>294.0</td>\n",
              "      <td>0.895088</td>\n",
              "    </tr>\n",
              "    <tr>\n",
              "      <th>7</th>\n",
              "      <td>324.0</td>\n",
              "      <td>2.636</td>\n",
              "      <td>[5, -0.1792, 0.7783, ounces]</td>\n",
              "      <td>[0.06, 0.0375, 0.6938]</td>\n",
              "      <td>[0, 0.0257, 1.0312]</td>\n",
              "      <td>0.0053</td>\n",
              "      <td>[0.01, 0.01]</td>\n",
              "      <td>293.0</td>\n",
              "      <td>0.768484</td>\n",
              "    </tr>\n",
              "    <tr>\n",
              "      <th>1</th>\n",
              "      <td>324.0</td>\n",
              "      <td>2.636</td>\n",
              "      <td>[5, -0.1791, 0.7795, ounces]</td>\n",
              "      <td>[0.06, 0.0375, 0.6946]</td>\n",
              "      <td>[0, 0.0257, 1.0312]</td>\n",
              "      <td>0.0053</td>\n",
              "      <td>[0.01, 0.01]</td>\n",
              "      <td>287.0</td>\n",
              "      <td>0.380064</td>\n",
              "    </tr>\n",
              "    <tr>\n",
              "      <th>9</th>\n",
              "      <td>324.0</td>\n",
              "      <td>2.636</td>\n",
              "      <td>[5, -0.1791, 0.7796, ounces]</td>\n",
              "      <td>[0.06, 0.0375, 0.6929]</td>\n",
              "      <td>[0, 0.0257, 1.0316]</td>\n",
              "      <td>0.0053</td>\n",
              "      <td>[0.01, 0.01]</td>\n",
              "      <td>298.0</td>\n",
              "      <td>0.334493</td>\n",
              "    </tr>\n",
              "    <tr>\n",
              "      <th>2</th>\n",
              "      <td>324.0</td>\n",
              "      <td>2.636</td>\n",
              "      <td>[5, -0.179, 0.7801, ounces]</td>\n",
              "      <td>[0.06, 0.0375, 0.6927]</td>\n",
              "      <td>[0, 0.0257, 1.0306]</td>\n",
              "      <td>0.0053</td>\n",
              "      <td>[0.01, 0.01]</td>\n",
              "      <td>300.0</td>\n",
              "      <td>0.258486</td>\n",
              "    </tr>\n",
              "    <tr>\n",
              "      <th>0</th>\n",
              "      <td>324.0</td>\n",
              "      <td>2.636</td>\n",
              "      <td>[5, -0.179, 0.7809, ounces]</td>\n",
              "      <td>[0.06, 0.0375, 0.6939]</td>\n",
              "      <td>[0, 0.0257, 1.0316]</td>\n",
              "      <td>0.0053</td>\n",
              "      <td>[0.01, 0.01]</td>\n",
              "      <td>282.0</td>\n",
              "      <td>0.240696</td>\n",
              "    </tr>\n",
              "    <tr>\n",
              "      <th>4</th>\n",
              "      <td>324.0</td>\n",
              "      <td>2.636</td>\n",
              "      <td>[5, -0.1796, 0.7791, ounces]</td>\n",
              "      <td>[0.06, 0.0375, 0.6948]</td>\n",
              "      <td>[0, 0.0257, 1.0299]</td>\n",
              "      <td>0.0053</td>\n",
              "      <td>[0.01, 0.01]</td>\n",
              "      <td>279.0</td>\n",
              "      <td>0.125434</td>\n",
              "    </tr>\n",
              "    <tr>\n",
              "      <th>3</th>\n",
              "      <td>324.0</td>\n",
              "      <td>2.636</td>\n",
              "      <td>[5, -0.1794, 0.7805, ounces]</td>\n",
              "      <td>[0.06, 0.0375, 0.6949]</td>\n",
              "      <td>[0, 0.0257, 1.0303]</td>\n",
              "      <td>0.0053</td>\n",
              "      <td>[0.01, 0.01]</td>\n",
              "      <td>291.0</td>\n",
              "      <td>0.062191</td>\n",
              "    </tr>\n",
              "    <tr>\n",
              "      <th>6</th>\n",
              "      <td>324.0</td>\n",
              "      <td>2.636</td>\n",
              "      <td>[5, -0.179, 0.7807, ounces]</td>\n",
              "      <td>[0.06, 0.0375, 0.6937]</td>\n",
              "      <td>[0, 0.0257, 1.0299]</td>\n",
              "      <td>0.0053</td>\n",
              "      <td>[0.01, 0.01]</td>\n",
              "      <td>287.0</td>\n",
              "      <td>0.018316</td>\n",
              "    </tr>\n",
              "  </tbody>\n",
              "</table>\n",
              "</div>"
            ],
            "text/plain": [
              "    runs  m_wheel                         m_car  ...       cog_adj  count   p-value\n",
              "8  324.0    2.636  [5, -0.1794, 0.7797, ounces]  ...  [0.01, 0.01]  285.0  0.973700\n",
              "5  324.0    2.636  [5, -0.1792, 0.7801, ounces]  ...  [0.01, 0.01]  294.0  0.895088\n",
              "7  324.0    2.636  [5, -0.1792, 0.7783, ounces]  ...  [0.01, 0.01]  293.0  0.768484\n",
              "1  324.0    2.636  [5, -0.1791, 0.7795, ounces]  ...  [0.01, 0.01]  287.0  0.380064\n",
              "9  324.0    2.636  [5, -0.1791, 0.7796, ounces]  ...  [0.01, 0.01]  298.0  0.334493\n",
              "2  324.0    2.636   [5, -0.179, 0.7801, ounces]  ...  [0.01, 0.01]  300.0  0.258486\n",
              "0  324.0    2.636   [5, -0.179, 0.7809, ounces]  ...  [0.01, 0.01]  282.0  0.240696\n",
              "4  324.0    2.636  [5, -0.1796, 0.7791, ounces]  ...  [0.01, 0.01]  279.0  0.125434\n",
              "3  324.0    2.636  [5, -0.1794, 0.7805, ounces]  ...  [0.01, 0.01]  291.0  0.062191\n",
              "6  324.0    2.636   [5, -0.179, 0.7807, ounces]  ...  [0.01, 0.01]  287.0  0.018316\n",
              "\n",
              "[10 rows x 9 columns]"
            ]
          },
          "metadata": {
            "tags": []
          },
          "execution_count": 15
        }
      ]
    },
    {
      "cell_type": "markdown",
      "metadata": {
        "id": "8dLgA9aMHEwU",
        "colab_type": "text"
      },
      "source": [
        "Run a report comparing the improved simulation to the actuals."
      ]
    },
    {
      "cell_type": "code",
      "metadata": {
        "id": "Xf3BO8jCHEwW",
        "colab_type": "code",
        "outputId": "51ae7a46-de84-492e-89e2-6fcec4ec52a3",
        "colab": {
          "base_uri": "https://localhost:8080/",
          "height": 775
        }
      },
      "source": [
        "pack27.simulate_rounds(report_round=4)"
      ],
      "execution_count": 16,
      "outputs": [
        {
          "output_type": "stream",
          "text": [
            "Comparing Simulated and Actual Times\n",
            "                                                           simulated   actuals\n",
            "usual stats   count                                         282.0000  324.0000\n",
            "              mean                                            3.4636    3.4365\n",
            "              std                                             0.2998    0.2599\n",
            "              min                                             3.1688    3.1564\n",
            "              25%                                             3.2542    3.2692\n",
            "              50%                                             3.3572    3.3707\n",
            "              75%                                             3.5562    3.5233\n",
            "              max                                             4.6538    4.9484\n",
            "lognormal fit s = shape                                       0.9561    0.7767\n",
            "              loc = lower bound                               3.1558    3.1258\n",
            "              scale = distance from lower bound to median     0.2006    0.2322 \n",
            "\n",
            "Kolmogorov-Smirnov test that simulated and actual drawn from the same underlying distribution:\n",
            "==============================================================================================\n",
            "p-value = 0.7523\n",
            "Since the p-value above > 5%, we cannot reject the null hypothesis that\n",
            "simulated and actual times are drawn from the same underlying distribution.\n"
          ],
          "name": "stdout"
        },
        {
          "output_type": "display_data",
          "data": {
            "image/png": "[encoded data removed]",
            "text/plain": [
              "<Figure size 720x504 with 1 Axes>"
            ]
          },
          "metadata": {
            "tags": []
          }
        }
      ]
    }
  ]
}